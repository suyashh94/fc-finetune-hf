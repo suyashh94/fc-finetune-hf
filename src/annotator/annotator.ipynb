{
 "cells": [
  {
   "cell_type": "code",
   "execution_count": 18,
   "metadata": {},
   "outputs": [
    {
     "name": "stdout",
     "output_type": "stream",
     "text": [
      "Error in callback <function handle_keypress at 0x7f98fcf8cca0> (for pre_run_cell), with arguments args (<ExecutionInfo object at 7f98fc93b190, raw_cell=\"import json\n",
      "from ipywidgets import widgets, Button..\" store_history=True silent=False shell_futures=True cell_id=vscode-notebook-cell://amlext%2B2f737562736372697074696f6e732f35643362356165652d616537652d346463312d396233342d6465616133393933373135332f7265736f7572636547726f7570732f4750552d456173742d55532d322f70726f7669646572732f4d6963726f736f66742e4d616368696e654c6561726e696e6753657276696365732f776f726b7370616365732f4750552d413130302d53482f636f6d70757465732f736861726c616c6b61312d613130302d65617374757332/home/azureuser/localfiles/code/slm-finetuning/fc-finetune-hf/src/annotator/annotator.ipynb#W0sdnNjb2RlLXJlbW90ZQ%3D%3D>,),kwargs {}:\n"
     ]
    },
    {
     "ename": "TypeError",
     "evalue": "'ExecutionInfo' object is not subscriptable",
     "output_type": "error",
     "traceback": [
      "\u001b[0;31m---------------------------------------------------------------------------\u001b[0m",
      "\u001b[0;31mTypeError\u001b[0m                                 Traceback (most recent call last)",
      "Cell \u001b[0;32mIn[3], line 77\u001b[0m, in \u001b[0;36mhandle_keypress\u001b[0;34m(event)\u001b[0m\n\u001b[1;32m     76\u001b[0m \u001b[38;5;28;01mdef\u001b[39;00m \u001b[38;5;21mhandle_keypress\u001b[39m(event):\n\u001b[0;32m---> 77\u001b[0m     \u001b[38;5;28;01mif\u001b[39;00m \u001b[43mevent\u001b[49m\u001b[43m[\u001b[49m\u001b[38;5;124;43m\"\u001b[39;49m\u001b[38;5;124;43mkey\u001b[39;49m\u001b[38;5;124;43m\"\u001b[39;49m\u001b[43m]\u001b[49m \u001b[38;5;241m==\u001b[39m \u001b[38;5;124m\"\u001b[39m\u001b[38;5;124m \u001b[39m\u001b[38;5;124m\"\u001b[39m:\n\u001b[1;32m     78\u001b[0m         bool_selector\u001b[38;5;241m.\u001b[39mvalue \u001b[38;5;241m=\u001b[39m \u001b[38;5;129;01mnot\u001b[39;00m bool_selector\u001b[38;5;241m.\u001b[39mvalue  \u001b[38;5;66;03m# Toggle checkbox\u001b[39;00m\n\u001b[1;32m     79\u001b[0m     \u001b[38;5;28;01melif\u001b[39;00m event[\u001b[38;5;124m\"\u001b[39m\u001b[38;5;124mkey\u001b[39m\u001b[38;5;124m\"\u001b[39m] \u001b[38;5;241m==\u001b[39m \u001b[38;5;124m\"\u001b[39m\u001b[38;5;124mArrowRight\u001b[39m\u001b[38;5;124m\"\u001b[39m:\n",
      "\u001b[0;31mTypeError\u001b[0m: 'ExecutionInfo' object is not subscriptable"
     ]
    },
    {
     "data": {
      "application/vnd.jupyter.widget-view+json": {
       "model_id": "3a21ad17d4a94bc8bbeea63eabdac043",
       "version_major": 2,
       "version_minor": 0
      },
      "text/plain": [
       "VBox(children=(Label(value='Current Entry:'), Textarea(value='{\\n    \"name\": \"Alice\",\\n    \"age\": 25,\\n    \"is…"
      ]
     },
     "metadata": {},
     "output_type": "display_data"
    }
   ],
   "source": [
    "import json\n",
    "from ipywidgets import widgets, Button, VBox, HBox, Textarea, Checkbox, Label\n",
    "from IPython.display import display, clear_output\n",
    "\n",
    "# Load JSON data\n",
    "with open(\"annotation.json\", \"r\") as f:\n",
    "    data = json.load(f)\n",
    "\n",
    "# Check if data is list or dict\n",
    "if isinstance(data, list):\n",
    "    entries = data\n",
    "elif isinstance(data, dict):\n",
    "    entries = list(data.values())\n",
    "\n",
    "# Annotated data storage\n",
    "annotated_data = [{} for _ in range(len(entries))]  # Placeholder for annotations\n",
    "entry_index = 0  # Global tracker for current entry\n",
    "\n",
    "# Initialize widgets\n",
    "key_label = Label(\"Current Entry:\")\n",
    "entry_editor = Textarea(value=\"\", layout=widgets.Layout(width=\"80%\", height=\"150px\"))  # Smaller text area\n",
    "bool_selector = Checkbox(value=False, description=\"is_correct\")  # Default to False\n",
    "save_button = Button(description=\"Save Changes and Next\", button_style=\"success\")\n",
    "skip_button = Button(description=\"Skip Entry\", button_style=\"warning\")\n",
    "prev_button = Button(description=\"Go Back\", button_style=\"primary\")\n",
    "status_label = Label(\"\")\n",
    "\n",
    "# Function to load an entry\n",
    "def load_entry():\n",
    "    global entry_index\n",
    "    if 0 <= entry_index < len(entries):\n",
    "        current_entry = entries[entry_index]\n",
    "        # Load the current entry into the editor\n",
    "        entry_editor.value = json.dumps(current_entry, indent=4)\n",
    "        # Load existing annotation if available\n",
    "        if 'is_correct' in annotated_data[entry_index]:\n",
    "            bool_selector.value = annotated_data[entry_index]['is_correct']\n",
    "        else:\n",
    "            bool_selector.value = False  # Default boolean value\n",
    "        status_label.value = f\"Entry {entry_index + 1} of {len(entries)}\"\n",
    "    else:\n",
    "        # If all entries are processed, save the data\n",
    "        clear_output()\n",
    "        with open(\"annotated_file.json\", \"w\") as f:\n",
    "            json.dump(annotated_data, f, indent=4)\n",
    "        print(\"Annotation complete! Saved to annotated_file.json\")\n",
    "\n",
    "# Event handler for \"Save Changes and Next\"\n",
    "def save_changes_and_next(b):\n",
    "    global entry_index\n",
    "    try:\n",
    "        updated_entry = json.loads(entry_editor.value)  # Parse updated JSON\n",
    "        updated_entry['is_correct'] = bool_selector.value  # Add boolean key\n",
    "        annotated_data[entry_index] = updated_entry  # Save changes\n",
    "        entry_index += 1  # Move to the next entry\n",
    "        load_entry()\n",
    "    except Exception as e:\n",
    "        status_label.value = f\"Error saving entry: {e}\"\n",
    "\n",
    "# Event handler for \"Skip Entry\"\n",
    "def skip_entry(b):\n",
    "    global entry_index\n",
    "    # Ensure that 'is_correct' is explicitly set before skipping\n",
    "    if bool_selector.value is None:\n",
    "        status_label.value = \"Error: You must set a value for 'is_correct' to skip.\"\n",
    "        return\n",
    "    # Save the current entry without modifications, but include 'is_correct'\n",
    "    current_entry = entries[entry_index]\n",
    "    current_entry['is_correct'] = bool_selector.value\n",
    "    annotated_data[entry_index] = current_entry\n",
    "    entry_index += 1\n",
    "    load_entry()\n",
    "\n",
    "# Event handler for \"Go Back\"\n",
    "def go_back(b):\n",
    "    global entry_index\n",
    "    if entry_index > 0:\n",
    "        entry_index -= 1\n",
    "        load_entry()\n",
    "    else:\n",
    "        status_label.value = \"Error: You are already at the first entry.\"\n",
    "\n",
    "# Bind buttons to handlers\n",
    "save_button.on_click(save_changes_and_next)\n",
    "skip_button.on_click(skip_entry)\n",
    "prev_button.on_click(go_back)\n",
    "\n",
    "# Display the widgets\n",
    "load_entry()  # Load the first entry\n",
    "ui = VBox([\n",
    "    key_label,\n",
    "    entry_editor,\n",
    "    HBox([bool_selector, save_button, skip_button, prev_button]),\n",
    "    status_label\n",
    "])\n",
    "display(ui)"
   ]
  },
  {
   "cell_type": "code",
   "execution_count": null,
   "metadata": {},
   "outputs": [],
   "source": []
  }
 ],
 "metadata": {
  "kernelspec": {
   "display_name": "ml-gpu",
   "language": "python",
   "name": "python3"
  },
  "language_info": {
   "codemirror_mode": {
    "name": "ipython",
    "version": 3
   },
   "file_extension": ".py",
   "mimetype": "text/x-python",
   "name": "python",
   "nbconvert_exporter": "python",
   "pygments_lexer": "ipython3",
   "version": "3.10.14"
  }
 },
 "nbformat": 4,
 "nbformat_minor": 2
}
