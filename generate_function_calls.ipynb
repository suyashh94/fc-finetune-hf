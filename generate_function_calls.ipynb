{
 "cells": [
  {
   "cell_type": "code",
   "execution_count": 1,
   "metadata": {},
   "outputs": [
    {
     "data": {
      "text/plain": [
       "True"
      ]
     },
     "execution_count": 1,
     "metadata": {},
     "output_type": "execute_result"
    }
   ],
   "source": [
    "from config import  functions\n",
    "from dotenv import load_dotenv\n",
    "\n",
    "import os\n",
    "\n",
    "load_dotenv()"
   ]
  },
  {
   "cell_type": "code",
   "execution_count": 2,
   "metadata": {},
   "outputs": [],
   "source": [
    "import numpy as np \n",
    "import random \n",
    "def get_function_params(function_detail):\n",
    "    function_name = function_detail[\"name\"]\n",
    "    function_parameters = function_detail[\"parameters\"][\"properties\"]\n",
    "    required_parameters = function_detail[\"parameters\"].get(\"required\", [])\n",
    "    optional_parameters = function_detail[\"parameters\"].get(\"optional\", [])\n",
    "    \n",
    "    function_args_choices_req = {}\n",
    "    \n",
    "    for param in required_parameters:\n",
    "        param_details = function_parameters[param]\n",
    "        param_type = param_details[\"type\"]\n",
    "        function_args_choices_req[param] = {}\n",
    "        if 'enum' in param_details:\n",
    "            function_args_choices_req[param]['values'] = param_details['enum']\n",
    "            function_args_choices_req[param]['type'] = param_type\n",
    "        else:\n",
    "            if param_type == \"boolean\":\n",
    "                function_args_choices_req[param]['values'] = [True, False]\n",
    "                function_args_choices_req[param]['type'] = param_type\n",
    "            elif param_type in [\"integer\", \"number\"]:\n",
    "                lower_bound = param_details.get(\"lower_bound\", 1)\n",
    "                upper_bound = param_details.get(\"upper_bound\", 100)\n",
    "                # print(function_args_choices_req)\n",
    "                # print(function_name, lower_bound, upper_bound,param_details)\n",
    "                function_args_choices_req[param]['values'] = list(range(lower_bound, upper_bound))\n",
    "                function_args_choices_req[param]['type'] = param_type\n",
    "            elif param_type == \"string\":\n",
    "                function_args_choices_req[param]['values'] = [\"|string1|\", \"|string2|\", \"|string3|\"]\n",
    "                function_args_choices_req[param]['type'] = param_type\n",
    "        \n",
    "    function_args_choices_opt = {}\n",
    "    for param in optional_parameters:\n",
    "        function_args_choices_opt[param] = {}\n",
    "        param_details = function_parameters[param]\n",
    "        param_type = param_details[\"type\"]\n",
    "        if 'enum' in param_details:\n",
    "            function_args_choices_opt[param]['values'] = param_details['enum']\n",
    "            function_args_choices_opt[param]['type'] = param_type\n",
    "        else:\n",
    "            if param_type == \"boolean\":\n",
    "                function_args_choices_opt[param]['values'] = [True, False]\n",
    "                function_args_choices_opt[param]['type'] = param_type\n",
    "            elif param_type in [\"integer\", \"number\"]:\n",
    "                lower_bound = param_details.get(\"lower_bound\", 1)\n",
    "                upper_bound = param_details.get(\"upper_bound\", 100)\n",
    "                # print(function_name, lower_bound, upper_bound,param_details)\n",
    "                function_args_choices_opt[param]['values'] = list(range(lower_bound, upper_bound))\n",
    "                function_args_choices_opt[param]['type'] = param_type\n",
    "            elif param_type == \"string\":\n",
    "                function_args_choices_opt[param]['values'] = [\"|string1|\", \"|string2|\", \"|string3|\"]\n",
    "                function_args_choices_opt[param]['type'] = param_type\n",
    "\n",
    "    return function_name, function_args_choices_req, function_args_choices_opt"
   ]
  },
  {
   "cell_type": "code",
   "execution_count": 11,
   "metadata": {},
   "outputs": [],
   "source": [
    "def construct_function(required_params_config, opt_params_config, opt_prob=0.5):\n",
    "    function_args = {}\n",
    "    for param, choices in required_params_config.items():\n",
    "        if 'array' not in choices['type']:\n",
    "            function_args[param] = random.choice(choices['values'])\n",
    "        else:\n",
    "            # choose a random length for the array based on the number of choices\n",
    "            array_length = random.randint(1, len(choices['values']))\n",
    "            # choose random values for the array based on the choices with no duplicates\n",
    "            function_args[param] = random.sample(choices['values'], array_length)\n",
    "            if 'all' in function_args[param] and len(function_args[param]) > 1:\n",
    "                function_args[param].remove('all')\n",
    "                \n",
    "    \n",
    "    for param, choices in opt_params_config.items():\n",
    "        if random.random() < opt_prob:\n",
    "            # print(param, choices)\n",
    "            if 'array' not in choices['type']:\n",
    "                # print(f\"Optional param {param} is not an array\")\n",
    "                function_args[param] = random.choice(choices['values'])\n",
    "            else:\n",
    "                # print(f\"Optional param {param} is an array\")\n",
    "                # choose a random length for the array based on the number of choices\n",
    "                array_length = random.randint(1, len(choices['values']))\n",
    "                # print(f\"Array length: {array_length}\")\n",
    "                # choose random values for the array based on the choices with no duplicates\n",
    "                function_args[param] = random.sample(choices['values'], array_length)\n",
    "                \n",
    "                if 'all' in function_args[param] and len(function_args[param]) > 1:\n",
    "                    function_args[param].remove('all')\n",
    "                \n",
    "                # print(f\"Array values: {function_args[param]}\")\n",
    "    \n",
    "    return function_args\n",
    "\n",
    "\n",
    "def generate_function_call_args(function_details, n=10, opt_prob=0.5, function_args={}):\n",
    "    \n",
    "    for function_detail in function_details:\n",
    "        function_name, required_params_config, opt_params_config = get_function_params(function_detail)\n",
    "        function_args[function_name] = []\n",
    "        # print(function_name, required_params_config, opt_params_config)\n",
    "        for _ in range(n):\n",
    "            args = construct_function(required_params_config, opt_params_config, opt_prob=opt_prob)\n",
    "            function_args[function_name].append(args)\n",
    "    \n",
    "    return function_args\n",
    "\n",
    "\n",
    "calling_params = generate_function_call_args(functions, n=6, opt_prob=0.5) ## Generate 10 function calls for each function\n",
    "\n",
    "## Assimilate all function calls into a readable and maintainable format\n",
    "\n",
    "function_call_main_dict = {}\n",
    "for function_name, function_args in calling_params.items():\n",
    "    function_call_main_dict[function_name] = {\"args\": [], \"calls\" : []}\n",
    "    function_call_main_dict[function_name]['args'].append(function_args)\n",
    "    for args in function_args:\n",
    "        function_call = function_name + \"(\"\n",
    "        for param, value in args.items():\n",
    "            function_call += f\"{param}={value}, \"\n",
    "        function_call = function_call[:-2] + \")\" if len(args) > 0 else function_call + \")\"\n",
    "        function_call_main_dict[function_name]['calls'].append(function_call)\n"
   ]
  },
  {
   "cell_type": "code",
   "execution_count": 12,
   "metadata": {},
   "outputs": [],
   "source": [
    "import json \n",
    "with open(\"./data/function_calls.json\", \"w\") as f:\n",
    "    json.dump(function_call_main_dict, f)"
   ]
  },
  {
   "cell_type": "code",
   "execution_count": 13,
   "metadata": {},
   "outputs": [],
   "source": [
    "# read the saved function calls\n",
    "with open(\"./data/function_calls.json\", \"r\") as f:\n",
    "    function_calls = json.load(f)"
   ]
  },
  {
   "cell_type": "code",
   "execution_count": null,
   "metadata": {},
   "outputs": [],
   "source": []
  }
 ],
 "metadata": {
  "kernelspec": {
   "display_name": "ml-gpu",
   "language": "python",
   "name": "python3"
  },
  "language_info": {
   "codemirror_mode": {
    "name": "ipython",
    "version": 3
   },
   "file_extension": ".py",
   "mimetype": "text/x-python",
   "name": "python",
   "nbconvert_exporter": "python",
   "pygments_lexer": "ipython3",
   "version": "3.10.14"
  }
 },
 "nbformat": 4,
 "nbformat_minor": 2
}
